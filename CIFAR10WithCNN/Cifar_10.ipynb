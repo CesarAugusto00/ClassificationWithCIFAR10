{
  "nbformat": 4,
  "nbformat_minor": 0,
  "metadata": {
    "colab": {
      "provenance": [],
      "gpuType": "T4"
    },
    "kernelspec": {
      "name": "python3",
      "display_name": "Python 3"
    },
    "language_info": {
      "name": "python"
    },
    "accelerator": "GPU"
  },
  "cells": [
    {
      "cell_type": "code",
      "source": [
        "import torch\n",
        "import torchvision.datasets as datasets\n",
        "from torchvision.transforms import ToTensor\n",
        "from torch.utils.data import DataLoader\n",
        "from torch import nn\n",
        "\n",
        "import torch.nn.functional as F\n",
        "import torch.optim as optim\n"
      ],
      "metadata": {
        "id": "xwYtsCrhANad"
      },
      "execution_count": 15,
      "outputs": []
    },
    {
      "cell_type": "code",
      "source": [
        "# Download training data from open datasets.\n",
        "training_data = datasets.CIFAR10(\n",
        "    root=\"data\",\n",
        "    train=True,\n",
        "    download=True,\n",
        "    transform=ToTensor(),\n",
        ")\n",
        "\n",
        "# Download test data from open datasets.\n",
        "test_data = datasets.CIFAR10(\n",
        "    root=\"data\",\n",
        "    train=False,\n",
        "    download=True,\n",
        "    transform=ToTensor(),\n",
        ")"
      ],
      "metadata": {
        "colab": {
          "base_uri": "https://localhost:8080/"
        },
        "id": "hkGQjTJjAeGY",
        "outputId": "9351f3e8-bc17-4a3e-bd3e-ac69a63f1473"
      },
      "execution_count": 3,
      "outputs": [
        {
          "output_type": "stream",
          "name": "stderr",
          "text": [
            "100%|██████████| 170M/170M [00:03<00:00, 49.3MB/s]\n"
          ]
        }
      ]
    },
    {
      "cell_type": "code",
      "source": [
        "#Personal note. The set contains a set of image and label. Access image is data[i][0] and access label is data[i][1]\n",
        "print(training_data.classes[training_data[0][1]] )\n"
      ],
      "metadata": {
        "colab": {
          "base_uri": "https://localhost:8080/"
        },
        "id": "6wiNxiz2FysJ",
        "outputId": "0d20eb52-2b62-4c70-970b-35f8e4544581"
      },
      "execution_count": 4,
      "outputs": [
        {
          "output_type": "stream",
          "name": "stdout",
          "text": [
            "frog\n"
          ]
        }
      ]
    },
    {
      "cell_type": "code",
      "source": [
        "batch_size = 64\n",
        "\n",
        "#Create data loaders\n",
        "train_dataloader = DataLoader(training_data, batch_size=batch_size)\n",
        "test_dataloader = DataLoader(test_data, batch_size=batch_size)\n",
        "\n",
        "for X, y in test_dataloader:\n",
        "    print(f\"Shape of X [N, C, H, W]: {X.shape}\")\n",
        "    print(f\"Shape of y: {y.shape} {y.dtype}\")\n",
        "    break"
      ],
      "metadata": {
        "colab": {
          "base_uri": "https://localhost:8080/"
        },
        "id": "1ejaYgtsHcfY",
        "outputId": "0e54527b-8a07-4ba9-cee2-25ce29cec220"
      },
      "execution_count": 5,
      "outputs": [
        {
          "output_type": "stream",
          "name": "stdout",
          "text": [
            "Shape of X [N, C, H, W]: torch.Size([64, 3, 32, 32])\n",
            "Shape of y: torch.Size([64]) torch.int64\n"
          ]
        }
      ]
    },
    {
      "cell_type": "code",
      "source": [
        "device = torch.accelerator.current_accelerator().type if torch.accelerator.is_available() else \"cpu\"\n",
        "print(f\"Using {device} device\")\n",
        "\n",
        "#Define model\n",
        "class NeuralNetwork(nn.Module):\n",
        "  def __init__(self):\n",
        "    super().__init__()\n",
        "    self.conv1 = nn.Conv2d(3, 6, 5)\n",
        "    self.pool = nn.MaxPool2d(2, 2)\n",
        "    self.conv2 = nn.Conv2d(6, 16, 5)\n",
        "    self.fc1 = nn.Linear(16 * 5 * 5, 120)\n",
        "    self.fc2 = nn.Linear(120, 84)\n",
        "    self.fc3 = nn.Linear(84, 10)\n",
        "\n",
        "  def forward(self, x):\n",
        "    x = self.pool(F.relu(self.conv1(x)))\n",
        "    x = self.pool(F.relu(self.conv2(x)))\n",
        "    x = torch.flatten(x, 1) # flatten all dimensions except batch\n",
        "    x = F.relu(self.fc1(x))\n",
        "    x = F.relu(self.fc2(x))\n",
        "    x = self.fc3(x)\n",
        "    return x\n",
        "\n",
        "model = NeuralNetwork().to(device)\n",
        "print(model)"
      ],
      "metadata": {
        "colab": {
          "base_uri": "https://localhost:8080/"
        },
        "id": "dUGwfpxFIkL9",
        "outputId": "d25f3973-b0be-457b-b941-1822c8729531"
      },
      "execution_count": 7,
      "outputs": [
        {
          "output_type": "stream",
          "name": "stdout",
          "text": [
            "Using cuda device\n",
            "NeuralNetwork(\n",
            "  (conv1): Conv2d(3, 6, kernel_size=(5, 5), stride=(1, 1))\n",
            "  (pool): MaxPool2d(kernel_size=2, stride=2, padding=0, dilation=1, ceil_mode=False)\n",
            "  (conv2): Conv2d(6, 16, kernel_size=(5, 5), stride=(1, 1))\n",
            "  (fc1): Linear(in_features=400, out_features=120, bias=True)\n",
            "  (fc2): Linear(in_features=120, out_features=84, bias=True)\n",
            "  (fc3): Linear(in_features=84, out_features=10, bias=True)\n",
            ")\n"
          ]
        }
      ]
    },
    {
      "cell_type": "code",
      "source": [
        "loss_fn = nn.CrossEntropyLoss()\n",
        "optimizer = torch.optim.SGD(model.parameters(), lr=1e-3, momentum=0.9)"
      ],
      "metadata": {
        "id": "o0zVrLSs9atS"
      },
      "execution_count": 18,
      "outputs": []
    },
    {
      "cell_type": "code",
      "source": [
        "def train(dataloader, model , loss_fn, optimizer):\n",
        "  for epoch in range(2):\n",
        "    running_loss = 0.0\n",
        "    for i, data in enumerate(train_dataloader, 0):\n",
        "      #get the inputs which is a pair of inut, label\n",
        "      inputs, labels = data\n",
        "      inputs = inputs.to(device)\n",
        "      labels = labels.to(device)\n",
        "\n",
        "      #zero the parameter gradients\n",
        "      optimizer.zero_grad()\n",
        "\n",
        "      #forward + backward + optimize\n",
        "      outputs = model(inputs)\n",
        "      loss = loss_fn(outputs, labels)\n",
        "      loss.backward()\n",
        "      optimizer.step()\n",
        "\n",
        "      #print statistics\n",
        "      running_loss += loss.item()\n",
        "      if i % 100 == 99:    # print every 2000 mini-batches\n",
        "        print(f'[{epoch + 1}, {i + 1:5d}] loss: {running_loss / 2000:.3f}')\n",
        "        running_loss = 0.0\n"
      ],
      "metadata": {
        "id": "mIeciDiu9ze9"
      },
      "execution_count": 28,
      "outputs": []
    },
    {
      "cell_type": "code",
      "source": [
        "def test(dataloader, model, loss_fn):\n",
        "    size = len(dataloader.dataset)\n",
        "    num_batches = len(dataloader)\n",
        "    model.eval()\n",
        "    test_loss, correct = 0, 0\n",
        "    with torch.no_grad():\n",
        "        for X, y in dataloader:\n",
        "            X, y = X.to(device), y.to(device)\n",
        "            pred = model(X)\n",
        "            test_loss += loss_fn(pred, y).item()\n",
        "            correct += (pred.argmax(1) == y).type(torch.float).sum().item()\n",
        "    test_loss /= num_batches\n",
        "    correct /= size\n",
        "    print(f\"Test Error: \\n Accuracy: {(100*correct):>0.1f}%, Avg loss: {test_loss:>8f} \\n\")"
      ],
      "metadata": {
        "id": "Nnh2M3FcM6BV"
      },
      "execution_count": 26,
      "outputs": []
    },
    {
      "cell_type": "code",
      "source": [
        "num_epochs = 5\n",
        "for epoch in range(num_epochs):\n",
        "    train(train_dataloader, model, loss_fn, optimizer)\n",
        "    test(test_dataloader, model, loss_fn)"
      ],
      "metadata": {
        "colab": {
          "base_uri": "https://localhost:8080/"
        },
        "id": "h8zEcpeeNP0R",
        "outputId": "9a7523b6-d058-40fe-da52-e31fd06ff103"
      },
      "execution_count": 31,
      "outputs": [
        {
          "output_type": "stream",
          "name": "stdout",
          "text": [
            "[1,   100] loss: 0.077\n",
            "[1,   200] loss: 0.077\n",
            "[1,   300] loss: 0.077\n",
            "[1,   400] loss: 0.075\n",
            "[1,   500] loss: 0.076\n",
            "[1,   600] loss: 0.077\n",
            "[1,   700] loss: 0.076\n",
            "[2,   100] loss: 0.075\n",
            "[2,   200] loss: 0.075\n",
            "[2,   300] loss: 0.075\n",
            "[2,   400] loss: 0.073\n",
            "[2,   500] loss: 0.074\n",
            "[2,   600] loss: 0.075\n",
            "[2,   700] loss: 0.075\n",
            "Test Error: \n",
            " Accuracy: 46.9%, Avg loss: 1.476040 \n",
            "\n",
            "[1,   100] loss: 0.073\n",
            "[1,   200] loss: 0.073\n",
            "[1,   300] loss: 0.073\n",
            "[1,   400] loss: 0.072\n",
            "[1,   500] loss: 0.072\n",
            "[1,   600] loss: 0.074\n",
            "[1,   700] loss: 0.073\n",
            "[2,   100] loss: 0.072\n",
            "[2,   200] loss: 0.071\n",
            "[2,   300] loss: 0.072\n",
            "[2,   400] loss: 0.070\n",
            "[2,   500] loss: 0.071\n",
            "[2,   600] loss: 0.072\n",
            "[2,   700] loss: 0.071\n",
            "Test Error: \n",
            " Accuracy: 48.8%, Avg loss: 1.418166 \n",
            "\n",
            "[1,   100] loss: 0.070\n",
            "[1,   200] loss: 0.070\n",
            "[1,   300] loss: 0.070\n",
            "[1,   400] loss: 0.069\n",
            "[1,   500] loss: 0.069\n",
            "[1,   600] loss: 0.071\n",
            "[1,   700] loss: 0.070\n",
            "[2,   100] loss: 0.069\n",
            "[2,   200] loss: 0.069\n",
            "[2,   300] loss: 0.069\n",
            "[2,   400] loss: 0.068\n",
            "[2,   500] loss: 0.068\n",
            "[2,   600] loss: 0.070\n",
            "[2,   700] loss: 0.069\n",
            "Test Error: \n",
            " Accuracy: 51.1%, Avg loss: 1.363728 \n",
            "\n",
            "[1,   100] loss: 0.067\n",
            "[1,   200] loss: 0.068\n",
            "[1,   300] loss: 0.068\n",
            "[1,   400] loss: 0.066\n",
            "[1,   500] loss: 0.067\n",
            "[1,   600] loss: 0.069\n",
            "[1,   700] loss: 0.068\n",
            "[2,   100] loss: 0.066\n",
            "[2,   200] loss: 0.066\n",
            "[2,   300] loss: 0.067\n",
            "[2,   400] loss: 0.065\n",
            "[2,   500] loss: 0.066\n",
            "[2,   600] loss: 0.067\n",
            "[2,   700] loss: 0.066\n",
            "Test Error: \n",
            " Accuracy: 52.7%, Avg loss: 1.326712 \n",
            "\n",
            "[1,   100] loss: 0.064\n",
            "[1,   200] loss: 0.065\n",
            "[1,   300] loss: 0.065\n",
            "[1,   400] loss: 0.064\n",
            "[1,   500] loss: 0.065\n",
            "[1,   600] loss: 0.066\n",
            "[1,   700] loss: 0.065\n",
            "[2,   100] loss: 0.063\n",
            "[2,   200] loss: 0.064\n",
            "[2,   300] loss: 0.064\n",
            "[2,   400] loss: 0.063\n",
            "[2,   500] loss: 0.064\n",
            "[2,   600] loss: 0.065\n",
            "[2,   700] loss: 0.065\n",
            "Test Error: \n",
            " Accuracy: 53.4%, Avg loss: 1.313063 \n",
            "\n"
          ]
        }
      ]
    },
    {
      "cell_type": "code",
      "source": [
        "from PIL import Image\n",
        "import numpy as np\n",
        "from matplotlib import pyplot as plt\n",
        "\n",
        "img = Image.open(\"/content/data/frog-610x343.jpg\").convert(\"RGB\")\n",
        "img = img = img.resize((32, 32))\n",
        "img_tensor = ToTensor()(img)\n",
        "img_tensor = img_tensor.unsqueeze(0)"
      ],
      "metadata": {
        "id": "BMKG-1embwL7"
      },
      "execution_count": 44,
      "outputs": []
    },
    {
      "cell_type": "code",
      "source": [
        "img_tensor = img_tensor.to(device)"
      ],
      "metadata": {
        "id": "eyO0AUEsfQwY"
      },
      "execution_count": 49,
      "outputs": []
    },
    {
      "cell_type": "code",
      "source": [
        "model.eval()\n",
        "with torch.no_grad():\n",
        "    output = model(img_tensor)\n",
        "    predicted_class = output.argmax(1).item()\n",
        "print(f\"Predicted class index: {training_data.classes[predicted_class]}\")"
      ],
      "metadata": {
        "colab": {
          "base_uri": "https://localhost:8080/"
        },
        "id": "b6b-DuAHhD3K",
        "outputId": "5aafa0cd-216a-4bd0-f794-2ac90d15eeeb"
      },
      "execution_count": 55,
      "outputs": [
        {
          "output_type": "stream",
          "name": "stdout",
          "text": [
            "Predicted class index: deer\n"
          ]
        }
      ]
    }
  ]
}