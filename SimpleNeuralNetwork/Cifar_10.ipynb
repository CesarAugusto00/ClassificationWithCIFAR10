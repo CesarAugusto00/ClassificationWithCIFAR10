{
  "nbformat": 4,
  "nbformat_minor": 0,
  "metadata": {
    "colab": {
      "provenance": [],
      "gpuType": "T4"
    },
    "kernelspec": {
      "name": "python3",
      "display_name": "Python 3"
    },
    "language_info": {
      "name": "python"
    },
    "accelerator": "GPU"
  },
  "cells": [
    {
      "cell_type": "code",
      "source": [
        "import torch\n",
        "import torchvision.datasets as datasets\n",
        "from torchvision.transforms import ToTensor\n",
        "from torch.utils.data import DataLoader\n",
        "from torch import nn\n"
      ],
      "metadata": {
        "id": "xwYtsCrhANad"
      },
      "execution_count": 1,
      "outputs": []
    },
    {
      "cell_type": "code",
      "source": [
        "# Download training data from open datasets.\n",
        "training_data = datasets.CIFAR10(\n",
        "    root=\"data\",\n",
        "    train=True,\n",
        "    download=True,\n",
        "    transform=ToTensor(),\n",
        ")\n",
        "\n",
        "# Download test data from open datasets.\n",
        "test_data = datasets.CIFAR10(\n",
        "    root=\"data\",\n",
        "    train=False,\n",
        "    download=True,\n",
        "    transform=ToTensor(),\n",
        ")"
      ],
      "metadata": {
        "colab": {
          "base_uri": "https://localhost:8080/"
        },
        "id": "hkGQjTJjAeGY",
        "outputId": "c9575d5d-9f51-4303-910c-697b39f8589f"
      },
      "execution_count": 2,
      "outputs": [
        {
          "output_type": "stream",
          "name": "stderr",
          "text": [
            "100%|██████████| 170M/170M [00:07<00:00, 21.5MB/s]\n"
          ]
        }
      ]
    },
    {
      "cell_type": "code",
      "source": [
        "#Personal note. The set contains a set of image and label. Access image is data[i][0] and access label is data[i][1]\n",
        "print(training_data.classes[training_data[0][1]] )\n"
      ],
      "metadata": {
        "colab": {
          "base_uri": "https://localhost:8080/"
        },
        "id": "6wiNxiz2FysJ",
        "outputId": "630efc02-1f7d-4194-ed93-1140ea706d38"
      },
      "execution_count": 3,
      "outputs": [
        {
          "output_type": "stream",
          "name": "stdout",
          "text": [
            "frog\n"
          ]
        }
      ]
    },
    {
      "cell_type": "code",
      "source": [
        "batch_size = 64\n",
        "\n",
        "#Create data loaders\n",
        "train_dataloader = DataLoader(training_data, batch_size=batch_size)\n",
        "test_dataloader = DataLoader(test_data, batch_size=batch_size)\n",
        "\n",
        "for X, y in test_dataloader:\n",
        "    print(f\"Shape of X [N, C, H, W]: {X.shape}\")\n",
        "    print(f\"Shape of y: {y.shape} {y.dtype}\")\n",
        "    break"
      ],
      "metadata": {
        "colab": {
          "base_uri": "https://localhost:8080/"
        },
        "id": "1ejaYgtsHcfY",
        "outputId": "dfbfa42a-22fa-474d-e2a0-540e56e3c255"
      },
      "execution_count": 4,
      "outputs": [
        {
          "output_type": "stream",
          "name": "stdout",
          "text": [
            "Shape of X [N, C, H, W]: torch.Size([64, 3, 32, 32])\n",
            "Shape of y: torch.Size([64]) torch.int64\n"
          ]
        }
      ]
    },
    {
      "cell_type": "code",
      "source": [
        "device = torch.accelerator.current_accelerator().type if torch.accelerator.is_available() else \"cpu\"\n",
        "print(f\"Using {device} device\")\n",
        "\n",
        "#Define model\n",
        "class NeuralNetwork(nn.Module):\n",
        "  def __init__(self):\n",
        "    super().__init__()\n",
        "    self.flatten = nn.Flatten()\n",
        "    self.linear_relu_stack = nn.Sequential(\n",
        "      nn.Linear(32*32*3, 512),\n",
        "      nn.ReLU(),\n",
        "      nn.Linear(512, 512),\n",
        "      nn.ReLU(),\n",
        "      nn.Linear(512, 10)\n",
        "    )\n",
        "\n",
        "  def forward(self, x):\n",
        "    x = self.flatten(x)\n",
        "    logits = self.linear_relu_stack(x)\n",
        "    return logits\n",
        "\n",
        "model = NeuralNetwork().to(device)\n",
        "print(model)"
      ],
      "metadata": {
        "colab": {
          "base_uri": "https://localhost:8080/"
        },
        "id": "dUGwfpxFIkL9",
        "outputId": "a7e5c162-3e68-47de-db50-17ffb941f8b7"
      },
      "execution_count": 5,
      "outputs": [
        {
          "output_type": "stream",
          "name": "stdout",
          "text": [
            "Using cuda device\n",
            "NeuralNetwork(\n",
            "  (flatten): Flatten(start_dim=1, end_dim=-1)\n",
            "  (linear_relu_stack): Sequential(\n",
            "    (0): Linear(in_features=3072, out_features=512, bias=True)\n",
            "    (1): ReLU()\n",
            "    (2): Linear(in_features=512, out_features=512, bias=True)\n",
            "    (3): ReLU()\n",
            "    (4): Linear(in_features=512, out_features=10, bias=True)\n",
            "  )\n",
            ")\n"
          ]
        }
      ]
    },
    {
      "cell_type": "code",
      "source": [
        "loss_fn = nn.CrossEntropyLoss()\n",
        "optimizer = torch.optim.SGD(model.parameters(), lr=1e-3)"
      ],
      "metadata": {
        "id": "o0zVrLSs9atS"
      },
      "execution_count": 6,
      "outputs": []
    },
    {
      "cell_type": "code",
      "source": [
        "def train(dataloader, model , loss_fn, optimizer):\n",
        "  size = len(dataloader.dataset)\n",
        "  model.train()\n",
        "  for batch, (X, y) in enumerate(dataloader):\n",
        "    X, y = X.to(device), y.to(device)\n",
        "\n",
        "    #Compute prediction error\n",
        "    pred = model(X)\n",
        "    loss = loss_fn(pred, y)\n",
        "\n",
        "    #Backpropagation\n",
        "    loss.backward()\n",
        "    optimizer.step()\n",
        "    optimizer.zero_grad()\n",
        "\n",
        "    if batch % 100 == 0:\n",
        "      loss, current = loss.item(), batch * len(X)\n",
        "      print(f\"loss: {loss:>7f} [{current:>5d}/{size:>5d}]\")\n"
      ],
      "metadata": {
        "id": "mIeciDiu9ze9"
      },
      "execution_count": 7,
      "outputs": []
    },
    {
      "cell_type": "code",
      "source": [
        "def test(dataloader, model, loss_fn):\n",
        "    size = len(dataloader.dataset)\n",
        "    num_batches = len(dataloader)\n",
        "    model.eval()\n",
        "    test_loss, correct = 0, 0\n",
        "    with torch.no_grad():\n",
        "        for X, y in dataloader:\n",
        "            X, y = X.to(device), y.to(device)\n",
        "            pred = model(X)\n",
        "            test_loss += loss_fn(pred, y).item()\n",
        "            correct += (pred.argmax(1) == y).type(torch.float).sum().item()\n",
        "    test_loss /= num_batches\n",
        "    correct /= size\n",
        "    print(f\"Test Error: \\n Accuracy: {(100*correct):>0.1f}%, Avg loss: {test_loss:>8f} \\n\")"
      ],
      "metadata": {
        "id": "Nnh2M3FcM6BV"
      },
      "execution_count": 8,
      "outputs": []
    },
    {
      "cell_type": "code",
      "source": [
        "epochs = 5\n",
        "for t in range(epochs):\n",
        "    print(f\"Epoch {t+1}\\n-------------------------------\")\n",
        "    train(train_dataloader, model, loss_fn, optimizer)\n",
        "    test(test_dataloader, model, loss_fn)\n",
        "print(\"Done!\")"
      ],
      "metadata": {
        "colab": {
          "base_uri": "https://localhost:8080/"
        },
        "id": "h8zEcpeeNP0R",
        "outputId": "b35e5229-75d9-4d4a-a5ad-d782b07f337b"
      },
      "execution_count": 9,
      "outputs": [
        {
          "output_type": "stream",
          "name": "stdout",
          "text": [
            "Epoch 1\n",
            "-------------------------------\n",
            "loss: 2.303422 [    0/50000]\n",
            "loss: 2.300388 [ 6400/50000]\n",
            "loss: 2.295327 [12800/50000]\n",
            "loss: 2.290386 [19200/50000]\n",
            "loss: 2.285543 [25600/50000]\n",
            "loss: 2.280494 [32000/50000]\n",
            "loss: 2.278836 [38400/50000]\n",
            "loss: 2.284734 [44800/50000]\n",
            "Test Error: \n",
            " Accuracy: 15.7%, Avg loss: 2.269211 \n",
            "\n",
            "Epoch 2\n",
            "-------------------------------\n",
            "loss: 2.283875 [    0/50000]\n",
            "loss: 2.280887 [ 6400/50000]\n",
            "loss: 2.250039 [12800/50000]\n",
            "loss: 2.267228 [19200/50000]\n",
            "loss: 2.244891 [25600/50000]\n",
            "loss: 2.244555 [32000/50000]\n",
            "loss: 2.258569 [38400/50000]\n",
            "loss: 2.248553 [44800/50000]\n",
            "Test Error: \n",
            " Accuracy: 20.8%, Avg loss: 2.233148 \n",
            "\n",
            "Epoch 3\n",
            "-------------------------------\n",
            "loss: 2.257879 [    0/50000]\n",
            "loss: 2.248911 [ 6400/50000]\n",
            "loss: 2.196619 [12800/50000]\n",
            "loss: 2.238264 [19200/50000]\n",
            "loss: 2.195129 [25600/50000]\n",
            "loss: 2.197503 [32000/50000]\n",
            "loss: 2.230970 [38400/50000]\n",
            "loss: 2.194691 [44800/50000]\n",
            "Test Error: \n",
            " Accuracy: 23.3%, Avg loss: 2.183704 \n",
            "\n",
            "Epoch 4\n",
            "-------------------------------\n",
            "loss: 2.220901 [    0/50000]\n",
            "loss: 2.204632 [ 6400/50000]\n",
            "loss: 2.126050 [12800/50000]\n",
            "loss: 2.200485 [19200/50000]\n",
            "loss: 2.136339 [25600/50000]\n",
            "loss: 2.141129 [32000/50000]\n",
            "loss: 2.205631 [38400/50000]\n",
            "loss: 2.130200 [44800/50000]\n",
            "Test Error: \n",
            " Accuracy: 25.0%, Avg loss: 2.128959 \n",
            "\n",
            "Epoch 5\n",
            "-------------------------------\n",
            "loss: 2.179437 [    0/50000]\n",
            "loss: 2.158062 [ 6400/50000]\n",
            "loss: 2.052136 [12800/50000]\n",
            "loss: 2.159914 [19200/50000]\n",
            "loss: 2.084608 [25600/50000]\n",
            "loss: 2.089526 [32000/50000]\n",
            "loss: 2.189770 [38400/50000]\n",
            "loss: 2.073009 [44800/50000]\n",
            "Test Error: \n",
            " Accuracy: 26.5%, Avg loss: 2.082185 \n",
            "\n",
            "Done!\n"
          ]
        }
      ]
    }
  ]
}